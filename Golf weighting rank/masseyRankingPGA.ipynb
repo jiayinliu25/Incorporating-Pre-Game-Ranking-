{
 "cells": [
  {
   "cell_type": "markdown",
   "metadata": {},
   "source": [
    "# Massey ranking\n"
   ]
  },
  {
   "cell_type": "code",
   "execution_count": 16,
   "metadata": {},
   "outputs": [],
   "source": [
    "gameFilename = '2015APseedgame.csv'\n",
    "teamFilename = '2015player.csv'\n",
    "k = 0"
   ]
  },
  {
   "cell_type": "markdown",
   "metadata": {},
   "source": [
    "### Load the team names into an array"
   ]
  },
  {
   "cell_type": "code",
   "execution_count": 17,
   "metadata": {},
   "outputs": [],
   "source": [
    "import pandas as pd\n",
    "\n",
    "teamNames = pd.read_csv(teamFilename, header = None)\n",
    "numTeams = len(teamNames)"
   ]
  },
  {
   "cell_type": "markdown",
   "metadata": {},
   "source": [
    "### Load the games"
   ]
  },
  {
   "cell_type": "code",
   "execution_count": 18,
   "metadata": {},
   "outputs": [],
   "source": [
    "# columns of games are:\n",
    "#\tcolumn 0 = days since 1/1/0000\n",
    "#\tcolumn 1 = date in YYYYMMDD format\n",
    "#\tcolumn 2 = team1 index\n",
    "#\tcolumn 3 = team1 homefield (1 = home, -1 = away, 0 = neutral)\n",
    "#\tcolumn 4 = team1 score\n",
    "#\tcolumn 5 = team2 index\n",
    "#\tcolumn 6 = team2 homefield (1 = home, -1 = away, 0 = neutral)\n",
    "#\tcolumn 7 = team2 score\n",
    "games = pd.read_csv(gameFilename, header = None)\n",
    "numGames = len(games)"
   ]
  },
  {
   "cell_type": "code",
   "execution_count": 19,
   "metadata": {},
   "outputs": [],
   "source": [
    "def seeding():\n",
    "    date = games.loc[i, 0]\n",
    "    if date == 736048:\n",
    "        return 1.0\n",
    "    else:\n",
    "        return 1.0"
   ]
  },
  {
   "cell_type": "markdown",
   "metadata": {},
   "source": [
    "### Create the Massey linear system"
   ]
  },
  {
   "cell_type": "code",
   "execution_count": 20,
   "metadata": {},
   "outputs": [],
   "source": [
    "import numpy as np\n",
    "\n",
    "masseyMatrix = np.zeros((numTeams,numTeams))\n",
    "b = np.zeros(numTeams)\n",
    "\n",
    "for i in range(numGames):\n",
    "    team1ID = games.loc[i, 2] - 1 # subtracting 1 since python indexes at 0\n",
    "    team1Score = games.loc[i, 4]\n",
    "    team2ID = games.loc[i, 5] - 1 # subtracting 1 since python indexes at 0\n",
    "    team2Score = games.loc[i, 7]\n",
    "    \n",
    "    masseyMatrix[team1ID, team2ID] -= 1*seeding()\n",
    "    masseyMatrix[team2ID, team1ID] -= 1*seeding()\n",
    "\n",
    "    masseyMatrix[team1ID, team1ID] += 1*seeding()\n",
    "    masseyMatrix[team2ID, team2ID] += 1*seeding()\n",
    "    \n",
    "    pointDifferential = abs(team1Score - team2Score)\n",
    "    \n",
    "    if team1Score > team2Score:\n",
    "        b[team1ID] += pointDifferential\n",
    "        b[team2ID] -= pointDifferential\n",
    "    elif team1Score < team2Score:\n",
    "        b[team1ID] -= pointDifferential\n",
    "        b[team2ID] += pointDifferential\n",
    "        \n",
    "# replace last row with ones and 0 on RHS\n",
    "masseyMatrix[-1,:] = np.ones((1,numTeams))\n",
    "b[-1] = 0"
   ]
  },
  {
   "cell_type": "markdown",
   "metadata": {},
   "source": [
    "### Calculate linear system"
   ]
  },
  {
   "cell_type": "code",
   "execution_count": 21,
   "metadata": {},
   "outputs": [],
   "source": [
    "r = np.linalg.solve(masseyMatrix,b)\n",
    "iSort = np.argsort(-r)"
   ]
  },
  {
   "cell_type": "markdown",
   "metadata": {},
   "source": [
    "### Print the ranking of the teams"
   ]
  },
  {
   "cell_type": "code",
   "execution_count": 22,
   "metadata": {},
   "outputs": [
    {
     "name": "stdout",
     "output_type": "stream",
     "text": [
      "\n",
      "\n",
      "************** MASSEY Rating Method **************\n",
      "\n",
      "===========================\n",
      "Rank   Rating    Team   \n",
      "===========================\n",
      "   1   7.31183  McIlroy\n",
      "   2   5.22586  Spieth\n",
      "   3   3.54541  Stenson\n",
      "   4   3.41362  Watson\n",
      "   5   2.98033  Furyk\n",
      "   6   2.84920  Rose\n",
      "   7   2.65735  Day\n",
      "   8   2.44947  Johnson\n",
      "   9   2.15063  Scott\n",
      "  10   1.90887  García\n",
      "  11   1.60621  Walker\n",
      "  12   1.19202  Holmes\n",
      "  13   0.94297  Fowler\n",
      "  14   0.80017  Kuchar\n",
      "  15   0.79184  Reed\n",
      "  16   0.77700  Matsuyama\n",
      "  17   0.71135  Kaymer\n",
      "  18   0.31739  Horschel\n",
      "  19   -0.03220  Koepka\n",
      "  20   -0.14507  Na\n",
      "  21   -0.15330  Dubuisson\n",
      "  22   -0.25997  Westwood\n",
      "  23   -0.26010  Palmer\n",
      "  24   -0.26155  Haas\n",
      "  25   -0.28179  Johnson\n",
      "  26   -0.31670  Kirk\n",
      "  27   -0.38916  Poulter\n",
      "  28   -0.41931  Oosthuizen\n",
      "  29   -0.49061  Moore\n",
      "  30   -0.49385  Mahan\n",
      "  31   -0.49602  Donaldson\n",
      "  32   -0.62784  McDowell\n",
      "  33   -0.66218  Bradley\n",
      "  34   -0.68490  Lahiri\n",
      "  35   -0.71771  Snedeker\n",
      "  36   -0.72606  Casey\n",
      "  37   -0.76859  Schwartzel\n",
      "  38   -0.81497  Grace\n",
      "  39   -0.93672  Wiesberger\n",
      "  40   -0.93776  Every\n",
      "  41   -1.01308  Todd\n",
      "  42   -1.02295  Luiten\n",
      "  43   -1.02303  Gallacher\n",
      "  44   -1.03491  Jaidee\n",
      "  45   -1.06874  Simpson\n",
      "  46   -1.09230  Henley\n",
      "  47   -1.17998  Lowry\n",
      "  48   -1.19409  Willett\n",
      "  49   -1.20563  Woodland\n",
      "  50   -1.20791  Hoffman\n",
      "  51   -1.25103  Dufner\n",
      "  52   -1.27084  Warren\n",
      "  53   -1.33752  Leishman\n",
      "  54   -1.34785  Lévy\n",
      "  55   -1.35315  Fleetwood\n",
      "  56   -1.37908  English\n",
      "  57   -1.40531  Senden\n",
      "  58   -1.42300  Coetzee\n",
      "  59   -1.43579  Jones\n",
      "  60   -1.44040  Sullivan\n",
      "  61   -1.49056  Ilonen\n",
      "  62   -1.50726  Martin\n",
      "  63   -1.51644  Jiménez\n",
      "  64   -1.55430  Molinari\n",
      "\n"
     ]
    }
   ],
   "source": [
    "print('\\n\\n************** MASSEY Rating Method **************\\n')\n",
    "print('===========================')\n",
    "print('Rank   Rating    Team   ')\n",
    "print('===========================')\n",
    "if k==0:\n",
    "    numberTeamToPrint = numTeams\n",
    "else:\n",
    "    numberTeamToPrint = k\n",
    "\n",
    "for i in range(numberTeamToPrint):\n",
    "    print(f'{i+1:4d}   {r[iSort[i]]:.5f}  {teamNames.loc[iSort[i],1]}')\n",
    "\n",
    "print('')   # extra carriage return"
   ]
  },
  {
   "cell_type": "code",
   "execution_count": 242,
   "metadata": {},
   "outputs": [],
   "source": [
    "import pandas as pd\n",
    "\n",
    "colleyRank = pd.DataFrame(r)\n",
    "player = pd.DataFrame(teamNames)\n",
    "rrank = colleyRank[0]\n",
    "ewf = player[1]\n",
    "df = pd.concat([rrank,ewf],axis=1)\n",
    "dv = df.sort_values(0,ascending=False)\n",
    "dc = dv.reset_index()\n",
    "del dc['index']\n",
    "dc = dc.reset_index()\n",
    "dc['index'] = dc['index'] + 1\n",
    "dc = dc. sort_values(1)\n",
    "dc = dc.rename(columns={'index':'rank'})\n",
    "dc = dc.rename(columns={1:'teams'})\n",
    "del dc[0]\n",
    "dc = dc[['teams','rank']]\n"
   ]
  },
  {
   "cell_type": "code",
   "execution_count": 243,
   "metadata": {},
   "outputs": [
    {
     "data": {
      "text/html": [
       "<div>\n",
       "<style scoped>\n",
       "    .dataframe tbody tr th:only-of-type {\n",
       "        vertical-align: middle;\n",
       "    }\n",
       "\n",
       "    .dataframe tbody tr th {\n",
       "        vertical-align: top;\n",
       "    }\n",
       "\n",
       "    .dataframe thead th {\n",
       "        text-align: right;\n",
       "    }\n",
       "</style>\n",
       "<table border=\"1\" class=\"dataframe\">\n",
       "  <thead>\n",
       "    <tr style=\"text-align: right;\">\n",
       "      <th></th>\n",
       "      <th>teams</th>\n",
       "      <th>rank</th>\n",
       "    </tr>\n",
       "  </thead>\n",
       "  <tbody>\n",
       "    <tr>\n",
       "      <td>23</td>\n",
       "      <td>1</td>\n",
       "      <td>24</td>\n",
       "    </tr>\n",
       "    <tr>\n",
       "      <td>14</td>\n",
       "      <td>2</td>\n",
       "      <td>15</td>\n",
       "    </tr>\n",
       "    <tr>\n",
       "      <td>0</td>\n",
       "      <td>3</td>\n",
       "      <td>1</td>\n",
       "    </tr>\n",
       "    <tr>\n",
       "      <td>10</td>\n",
       "      <td>4</td>\n",
       "      <td>11</td>\n",
       "    </tr>\n",
       "    <tr>\n",
       "      <td>24</td>\n",
       "      <td>5</td>\n",
       "      <td>25</td>\n",
       "    </tr>\n",
       "  </tbody>\n",
       "</table>\n",
       "</div>"
      ],
      "text/plain": [
       "    teams  rank\n",
       "23      1    24\n",
       "14      2    15\n",
       "0       3     1\n",
       "10      4    11\n",
       "24      5    25"
      ]
     },
     "execution_count": 243,
     "metadata": {},
     "output_type": "execute_result"
    }
   ],
   "source": [
    "de = teamNames.rename(columns={0:'ID', 1:'Name'})\n",
    "de['ID'].astype(np.int64)\n",
    "de.set_index('ID')\n",
    "mydict = dict(zip(de.Name, de.ID))\n",
    "dc['teams'].replace(mydict, inplace=True)\n",
    "dc.head()"
   ]
  },
  {
   "cell_type": "code",
   "execution_count": 244,
   "metadata": {},
   "outputs": [],
   "source": [
    "def returnRank(t):\n",
    "    df = dc.loc[dc['teams'] == t]\n",
    "    return df.iat[0,1]"
   ]
  },
  {
   "cell_type": "code",
   "execution_count": 245,
   "metadata": {},
   "outputs": [],
   "source": [
    "gamet = pd.read_csv('gamedd.csv', header = None)\n",
    "weekg = gamet.loc[gamet[0] == 17]\n",
    "numgweek = len(weekg)\n",
    "correct = []\n",
    "incorrect = []\n",
    "num = 1"
   ]
  },
  {
   "cell_type": "code",
   "execution_count": 246,
   "metadata": {},
   "outputs": [],
   "source": [
    "for i in range(numgweek):\n",
    "    tea1ID = weekg.iloc[i, 3]\n",
    "    tea2ID = weekg.iloc[i, 6]\n",
    "    tea1Score = weekg.iloc[i, 5]\n",
    "    tea2Score = weekg.iloc[i, 8]\n",
    "    tea1Rank = returnRank(tea1ID)\n",
    "    tea2Rank = returnRank(tea2ID)\n",
    "    if tea1Score > tea2Score and tea1Rank < tea2Rank:\n",
    "        correct.append(num)\n",
    "    else:\n",
    "        incorrect.append(num)"
   ]
  },
  {
   "cell_type": "code",
   "execution_count": 247,
   "metadata": {},
   "outputs": [
    {
     "data": {
      "text/plain": [
       "0.625"
      ]
     },
     "execution_count": 247,
     "metadata": {},
     "output_type": "execute_result"
    }
   ],
   "source": [
    "len(correct)/numgweek"
   ]
  },
  {
   "cell_type": "code",
   "execution_count": null,
   "metadata": {},
   "outputs": [],
   "source": []
  },
  {
   "cell_type": "markdown",
   "metadata": {},
   "source": [
    "##### "
   ]
  },
  {
   "cell_type": "code",
   "execution_count": null,
   "metadata": {},
   "outputs": [],
   "source": []
  },
  {
   "cell_type": "code",
   "execution_count": null,
   "metadata": {},
   "outputs": [],
   "source": []
  },
  {
   "cell_type": "code",
   "execution_count": null,
   "metadata": {},
   "outputs": [],
   "source": []
  }
 ],
 "metadata": {
  "kernelspec": {
   "display_name": "Python 3",
   "language": "python",
   "name": "python3"
  },
  "language_info": {
   "codemirror_mode": {
    "name": "ipython",
    "version": 3
   },
   "file_extension": ".py",
   "mimetype": "text/x-python",
   "name": "python",
   "nbconvert_exporter": "python",
   "pygments_lexer": "ipython3",
   "version": "3.7.4"
  }
 },
 "nbformat": 4,
 "nbformat_minor": 4
}

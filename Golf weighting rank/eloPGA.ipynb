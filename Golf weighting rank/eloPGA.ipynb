{
 "cells": [
  {
   "cell_type": "markdown",
   "metadata": {},
   "source": [
    "## Elo Rating method\n",
    "\n",
    "This is the Elo method.  The example is taken from \"Who's #1\" by Langville and Meyer and the results match.  Note, the data includes the entire 2009 NFL season, including all playoff games.  \n",
    "\n",
    "Reference: https://www.gautamnarula.com/rating/"
   ]
  },
  {
   "cell_type": "code",
   "execution_count": 7,
   "metadata": {},
   "outputs": [],
   "source": [
    "import math \n",
    "  \n",
    "# Function to calculate the Probability \n",
    "def Probability(rating1, rating2): \n",
    "  \n",
    "    return 1.0 * 1.0 / (1 + 1.0 * math.pow(10, 1.0 * (rating1 - rating2) / 1000)) \n",
    "  \n",
    "# Function to calculate Elo rating \n",
    "# K is a constant. \n",
    "# Player A wins over Player B.  \n",
    "# tie = true if tie, false otherwise\n",
    "def EloRating(Ra, Rb, K, tie): \n",
    "    \n",
    "    # To calculate the Winning \n",
    "    # Probability of Player B \n",
    "    Pb = Probability(Ra, Rb) \n",
    "  \n",
    "    # To calculate the Winning \n",
    "    # Probability of Player A \n",
    "    Pa = Probability(Rb, Ra) \n",
    "  \n",
    "    # Updating the Elo Ratings \n",
    "    if tie:\n",
    "       Ra = Ra + K * (1/2 - Pa) \n",
    "       Rb = Rb + K * (1/2 - Pb) \n",
    "    else:        \n",
    "       Ra = Ra + K * (1 - Pa) \n",
    "       Rb = Rb + K * (0 - Pb) \n",
    "    \n",
    "    return Ra, Rb"
   ]
  },
  {
   "cell_type": "code",
   "execution_count": 8,
   "metadata": {},
   "outputs": [],
   "source": [
    "gameFilename = '2015APseedgame.csv'\n",
    "teamFilename = '2015player.csv'"
   ]
  },
  {
   "cell_type": "markdown",
   "metadata": {},
   "source": [
    "### Load the team names into an array"
   ]
  },
  {
   "cell_type": "code",
   "execution_count": 9,
   "metadata": {},
   "outputs": [],
   "source": [
    "import pandas as pd\n",
    "\n",
    "teamNames = pd.read_csv(teamFilename, header = None)\n",
    "numTeams = len(teamNames)"
   ]
  },
  {
   "cell_type": "markdown",
   "metadata": {},
   "source": [
    "### Load the games"
   ]
  },
  {
   "cell_type": "code",
   "execution_count": 10,
   "metadata": {},
   "outputs": [],
   "source": [
    "# columns of games are:\n",
    "#\tcolumn 0 = days since 1/1/0000\n",
    "#\tcolumn 1 = date in YYYYMMDD format\n",
    "#\tcolumn 2 = team1 index\n",
    "#\tcolumn 3 = team1 homefield (1 = home, -1 = away, 0 = neutral)\n",
    "#\tcolumn 4 = team1 score\n",
    "#\tcolumn 5 = team2 index\n",
    "#\tcolumn 6 = team2 homefield (1 = home, -1 = away, 0 = neutral)\n",
    "#\tcolumn 7 = team2 score\n",
    "games = pd.read_csv(gameFilename, header = None)\n",
    "games[0].replace(365243, 737600, inplace=True)\n",
    "numGames = len(games)"
   ]
  },
  {
   "cell_type": "markdown",
   "metadata": {},
   "source": [
    "### Create Elo ratings"
   ]
  },
  {
   "cell_type": "code",
   "execution_count": 11,
   "metadata": {},
   "outputs": [
    {
     "name": "stdout",
     "output_type": "stream",
     "text": [
      ">>>>>>> I'm not including ties.\n"
     ]
    }
   ],
   "source": [
    "import numpy as np\n",
    "\n",
    "print(\">>>>>>> I'm not including ties.\")\n",
    "\n",
    "eloRatings = np.zeros(numTeams)\n",
    "\n",
    "for i in range(numGames):\n",
    "    team1ID = games.loc[i, 2] - 1 # subtracting 1 since python indexes at 0\n",
    "    team1Score = games.loc[i, 4]\n",
    "    team2ID = games.loc[i, 5] - 1 # subtracting 1 since python indexes at 0\n",
    "    team2Score = games.loc[i, 7]\n",
    "\n",
    "    if team1Score > team2Score:\n",
    "        team1Rating, team2Rating = EloRating(eloRatings[team1ID], eloRatings[team2ID],32, False)\n",
    "    elif team1Score < team2Score:\n",
    "        team2Rating, team1Rating = EloRating(eloRatings[team2ID], eloRatings[team1ID],32, False)\n",
    "    else:  \n",
    "        team1Rating, team2Rating = EloRating(eloRatings[team1ID], eloRatings[team2ID],32, True)\n",
    "        \n",
    "    eloRatings[team1ID] = team1Rating\n",
    "    eloRatings[team2ID] = team2Rating"
   ]
  },
  {
   "cell_type": "markdown",
   "metadata": {},
   "source": [
    "### Sort and print the ranking of teams"
   ]
  },
  {
   "cell_type": "code",
   "execution_count": 12,
   "metadata": {},
   "outputs": [
    {
     "name": "stdout",
     "output_type": "stream",
     "text": [
      "\n",
      "\n",
      "************** ELO Rating Method **************\n",
      "\n",
      "===========================\n",
      "Rank   Rating      Team   \n",
      "===========================\n",
      "   1   645.47399  McIlroy\n",
      "   2   591.42247  Spieth\n",
      "   3   556.63175  Watson\n",
      "   4   542.67733  Stenson\n",
      "   5   540.52318  Furyk\n",
      "   6   524.10718  Rose\n",
      "   7   487.34428  Johnson\n",
      "   8   442.38641  Day\n",
      "   9   423.17022  Fowler\n",
      "  10   416.84895  García\n",
      "  11   416.41866  Holmes\n",
      "  12   405.20547  Scott\n",
      "  13   374.40022  Matsuyama\n",
      "  14   367.50852  Walker\n",
      "  15   355.73492  Reed\n",
      "  16   343.30143  Kuchar\n",
      "  17   314.24031  Horschel\n",
      "  18   295.64266  Kaymer\n",
      "  19   289.38049  Koepka\n",
      "  20   238.89426  Na\n",
      "  21   216.35036  Haas\n",
      "  22   199.81277  Johnson\n",
      "  23   191.30970  Dubuisson\n",
      "  24   191.04655  Westwood\n",
      "  25   177.40044  Kirk\n",
      "  26   174.89070  Palmer\n",
      "  27   134.45392  Oosthuizen\n",
      "  28   107.05491  Poulter\n",
      "  29   89.55204  Mahan\n",
      "  30   81.26520  Donaldson\n",
      "  31   51.79643  Moore\n",
      "  32   -4.63538  Casey\n",
      "  33   -21.38921  Schwartzel\n",
      "  34   -23.16791  Lahiri\n",
      "  35   -24.97643  McDowell\n",
      "  36   -38.72540  Bradley\n",
      "  37   -70.39966  Grace\n",
      "  38   -71.70222  Snedeker\n",
      "  39   -127.76421  Wiesberger\n",
      "  40   -177.84602  Luiten\n",
      "  41   -180.45043  Every\n",
      "  42   -205.05641  Gallacher\n",
      "  43   -220.38758  Todd\n",
      "  44   -230.02565  Jaidee\n",
      "  45   -241.72697  Simpson\n",
      "  46   -249.76572  Henley\n",
      "  47   -257.18174  Willett\n",
      "  48   -295.39545  Woodland\n",
      "  49   -298.96659  Lowry\n",
      "  50   -301.00617  Hoffman\n",
      "  51   -379.48332  Warren\n",
      "  52   -413.81385  Fleetwood\n",
      "  53   -418.24861  Dufner\n",
      "  54   -424.68334  Leishman\n",
      "  55   -432.73435  Lévy\n",
      "  56   -440.74508  English\n",
      "  57   -517.41011  Sullivan\n",
      "  58   -520.07332  Senden\n",
      "  59   -527.34579  Coetzee\n",
      "  60   -534.54762  Jones\n",
      "  61   -577.32305  Martin\n",
      "  62   -629.80663  Ilonen\n",
      "  63   -652.48626  Jiménez\n",
      "  64   -676.97522  Molinari\n",
      "\n"
     ]
    }
   ],
   "source": [
    "iSort = np.argsort(-eloRatings)\n",
    "\n",
    "print('\\n\\n************** ELO Rating Method **************\\n')\n",
    "print('===========================')\n",
    "print('Rank   Rating      Team   ')\n",
    "print('===========================')\n",
    "for i in range(numTeams):\n",
    "    print(f'{i+1:4d}   {eloRatings[iSort[i]]:.5f}  {teamNames.loc[iSort[i],1]}')\n",
    "\n",
    "print('')   # extra carriage return"
   ]
  },
  {
   "cell_type": "code",
   "execution_count": 13,
   "metadata": {},
   "outputs": [],
   "source": [
    "colleyRank = pd.DataFrame(eloRatings)\n",
    "player = pd.DataFrame(teamNames)\n",
    "rrank = colleyRank[0]\n",
    "ewf = player[1]\n",
    "df = pd.concat([rrank,ewf],axis=1)\n",
    "dv = df.sort_values(0,ascending=False)\n",
    "dc = dv.reset_index()\n",
    "del dc['index']\n",
    "dc = dc.reset_index()\n",
    "dc['index'] = dc['index'] + 1\n",
    "dc = dc. sort_values(1)\n",
    "dc = dc.rename(columns={'index':'rank'})\n",
    "dc = dc.rename(columns={1:'teams'})\n",
    "del dc[0]\n",
    "dc = dc[['teams','rank']]\n"
   ]
  },
  {
   "cell_type": "code",
   "execution_count": 8,
   "metadata": {},
   "outputs": [
    {
     "data": {
      "text/html": [
       "<div>\n",
       "<style scoped>\n",
       "    .dataframe tbody tr th:only-of-type {\n",
       "        vertical-align: middle;\n",
       "    }\n",
       "\n",
       "    .dataframe tbody tr th {\n",
       "        vertical-align: top;\n",
       "    }\n",
       "\n",
       "    .dataframe thead th {\n",
       "        text-align: right;\n",
       "    }\n",
       "</style>\n",
       "<table border=\"1\" class=\"dataframe\">\n",
       "  <thead>\n",
       "    <tr style=\"text-align: right;\">\n",
       "      <th></th>\n",
       "      <th>teams</th>\n",
       "      <th>rank</th>\n",
       "    </tr>\n",
       "  </thead>\n",
       "  <tbody>\n",
       "    <tr>\n",
       "      <td>23</td>\n",
       "      <td>1</td>\n",
       "      <td>24</td>\n",
       "    </tr>\n",
       "    <tr>\n",
       "      <td>19</td>\n",
       "      <td>2</td>\n",
       "      <td>20</td>\n",
       "    </tr>\n",
       "    <tr>\n",
       "      <td>0</td>\n",
       "      <td>3</td>\n",
       "      <td>1</td>\n",
       "    </tr>\n",
       "    <tr>\n",
       "      <td>9</td>\n",
       "      <td>4</td>\n",
       "      <td>10</td>\n",
       "    </tr>\n",
       "    <tr>\n",
       "      <td>26</td>\n",
       "      <td>5</td>\n",
       "      <td>27</td>\n",
       "    </tr>\n",
       "  </tbody>\n",
       "</table>\n",
       "</div>"
      ],
      "text/plain": [
       "    teams  rank\n",
       "23      1    24\n",
       "19      2    20\n",
       "0       3     1\n",
       "9       4    10\n",
       "26      5    27"
      ]
     },
     "execution_count": 8,
     "metadata": {},
     "output_type": "execute_result"
    }
   ],
   "source": [
    "de = teamNames.rename(columns={0:'ID', 1:'Name'})\n",
    "de['ID'].astype(np.int64)\n",
    "de.set_index('ID')\n",
    "mydict = dict(zip(de.Name, de.ID))\n",
    "dc['teams'].replace(mydict, inplace=True)\n",
    "dc.head()"
   ]
  },
  {
   "cell_type": "code",
   "execution_count": 9,
   "metadata": {},
   "outputs": [],
   "source": [
    "def returnRank(t):\n",
    "    df = dc.loc[dc['teams'] == t]\n",
    "    return df.iat[0,1]"
   ]
  },
  {
   "cell_type": "code",
   "execution_count": 10,
   "metadata": {},
   "outputs": [],
   "source": [
    "gamet = pd.read_csv('gamedd.csv', header = None)\n",
    "weekg = gamet.loc[gamet[0] == 17]\n",
    "numgweek = len(weekg)\n",
    "correct = []\n",
    "incorrect = []\n",
    "num = 1"
   ]
  },
  {
   "cell_type": "code",
   "execution_count": 11,
   "metadata": {},
   "outputs": [],
   "source": [
    "for i in range(numgweek):\n",
    "    tea1ID = weekg.iloc[i, 3]\n",
    "    tea2ID = weekg.iloc[i, 6]\n",
    "    tea1Score = weekg.iloc[i, 5]\n",
    "    tea2Score = weekg.iloc[i, 8]\n",
    "    tea1Rank = returnRank(tea1ID)\n",
    "    tea2Rank = returnRank(tea2ID)\n",
    "    if tea1Score > tea2Score and tea1Rank < tea2Rank:\n",
    "        correct.append(num)\n",
    "    else:\n",
    "        incorrect.append(num)"
   ]
  },
  {
   "cell_type": "code",
   "execution_count": 12,
   "metadata": {},
   "outputs": [
    {
     "data": {
      "text/plain": [
       "0.5"
      ]
     },
     "execution_count": 12,
     "metadata": {},
     "output_type": "execute_result"
    }
   ],
   "source": [
    "len(correct)/numgweek"
   ]
  },
  {
   "cell_type": "markdown",
   "metadata": {},
   "source": [
    "## "
   ]
  },
  {
   "cell_type": "code",
   "execution_count": null,
   "metadata": {},
   "outputs": [],
   "source": []
  }
 ],
 "metadata": {
  "kernelspec": {
   "display_name": "Python 3",
   "language": "python",
   "name": "python3"
  },
  "language_info": {
   "codemirror_mode": {
    "name": "ipython",
    "version": 3
   },
   "file_extension": ".py",
   "mimetype": "text/x-python",
   "name": "python",
   "nbconvert_exporter": "python",
   "pygments_lexer": "ipython3",
   "version": "3.7.4"
  }
 },
 "nbformat": 4,
 "nbformat_minor": 4
}

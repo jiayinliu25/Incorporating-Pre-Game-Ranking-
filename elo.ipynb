{
 "cells": [
  {
   "cell_type": "markdown",
   "metadata": {},
   "source": [
    "## Elo Rating method\n",
    "\n",
    "This is the Elo method.  The example is taken from \"Who's #1\" by Langville and Meyer and the results match.  Note, the data includes the entire 2009 NFL season, including all playoff games.  \n",
    "\n",
    "Reference: https://www.gautamnarula.com/rating/"
   ]
  },
  {
   "cell_type": "code",
   "execution_count": 1,
   "metadata": {},
   "outputs": [],
   "source": [
    "import math \n",
    "  \n",
    "# Function to calculate the Probability \n",
    "def Probability(rating1, rating2): \n",
    "  \n",
    "    return 1.0 * 1.0 / (1 + 1.0 * math.pow(10, 1.0 * (rating1 - rating2) / 1000)) \n",
    "  \n",
    "# Function to calculate Elo rating \n",
    "# K is a constant. \n",
    "# Player A wins over Player B.  \n",
    "# tie = true if tie, false otherwise\n",
    "def EloRating(Ra, Rb, K, tie): \n",
    "    \n",
    "    # To calculate the Winning \n",
    "    # Probability of Player B \n",
    "    Pb = Probability(Ra, Rb) \n",
    "  \n",
    "    # To calculate the Winning \n",
    "    # Probability of Player A \n",
    "    Pa = Probability(Rb, Ra) \n",
    "  \n",
    "    # Updating the Elo Ratings \n",
    "    if tie:\n",
    "       Ra = Ra + K * (1/2 - Pa) \n",
    "       Rb = Rb + K * (1/2 - Pb) \n",
    "    else:        \n",
    "       Ra = Ra + K * (1 - Pa) \n",
    "       Rb = Rb + K * (0 - Pb) \n",
    "    \n",
    "    return Ra, Rb"
   ]
  },
  {
   "cell_type": "code",
   "execution_count": 2,
   "metadata": {},
   "outputs": [],
   "source": [
    "gameFilename = 'week16wd.csv'\n",
    "teamFilename = '2019teams.txt'"
   ]
  },
  {
   "cell_type": "markdown",
   "metadata": {},
   "source": [
    "### Load the team names into an array"
   ]
  },
  {
   "cell_type": "code",
   "execution_count": 3,
   "metadata": {},
   "outputs": [],
   "source": [
    "import pandas as pd\n",
    "\n",
    "teamNames = pd.read_csv(teamFilename, header = None)\n",
    "numTeams = len(teamNames)"
   ]
  },
  {
   "cell_type": "markdown",
   "metadata": {},
   "source": [
    "### Load the games"
   ]
  },
  {
   "cell_type": "code",
   "execution_count": 4,
   "metadata": {},
   "outputs": [],
   "source": [
    "# columns of games are:\n",
    "#\tcolumn 0 = days since 1/1/0000\n",
    "#\tcolumn 1 = date in YYYYMMDD format\n",
    "#\tcolumn 2 = team1 index\n",
    "#\tcolumn 3 = team1 homefield (1 = home, -1 = away, 0 = neutral)\n",
    "#\tcolumn 4 = team1 score\n",
    "#\tcolumn 5 = team2 index\n",
    "#\tcolumn 6 = team2 homefield (1 = home, -1 = away, 0 = neutral)\n",
    "#\tcolumn 7 = team2 score\n",
    "games = pd.read_csv(gameFilename, header = None)\n",
    "games[0].replace(365243, 737600, inplace=True)\n",
    "numGames = len(games)"
   ]
  },
  {
   "cell_type": "markdown",
   "metadata": {},
   "source": [
    "### Create Elo ratings"
   ]
  },
  {
   "cell_type": "code",
   "execution_count": 5,
   "metadata": {},
   "outputs": [
    {
     "name": "stdout",
     "output_type": "stream",
     "text": [
      ">>>>>>> I'm not including ties.\n"
     ]
    }
   ],
   "source": [
    "import numpy as np\n",
    "\n",
    "print(\">>>>>>> I'm not including ties.\")\n",
    "\n",
    "eloRatings = np.zeros(numTeams)\n",
    "\n",
    "for i in range(numGames):\n",
    "    team1ID = games.loc[i, 2] - 1 # subtracting 1 since python indexes at 0\n",
    "    team1Score = games.loc[i, 4]\n",
    "    team2ID = games.loc[i, 5] - 1 # subtracting 1 since python indexes at 0\n",
    "    team2Score = games.loc[i, 7]\n",
    "\n",
    "    if team1Score > team2Score:\n",
    "        team1Rating, team2Rating = EloRating(eloRatings[team1ID], eloRatings[team2ID],32, False)\n",
    "    elif team1Score < team2Score:\n",
    "        team2Rating, team1Rating = EloRating(eloRatings[team2ID], eloRatings[team1ID],32, False)\n",
    "    else:  \n",
    "        team1Rating, team2Rating = EloRating(eloRatings[team1ID], eloRatings[team2ID],32, True)\n",
    "        \n",
    "    eloRatings[team1ID] = team1Rating\n",
    "    eloRatings[team2ID] = team2Rating"
   ]
  },
  {
   "cell_type": "markdown",
   "metadata": {},
   "source": [
    "### Sort and print the ranking of teams"
   ]
  },
  {
   "cell_type": "code",
   "execution_count": 6,
   "metadata": {},
   "outputs": [
    {
     "name": "stdout",
     "output_type": "stream",
     "text": [
      "\n",
      "\n",
      "************** ELO Rating Method **************\n",
      "\n",
      "===========================\n",
      "Rank   Rating      Team   \n",
      "===========================\n",
      "   1   163.17249   Baltimore\n",
      "   2   133.68426   New_England\n",
      "   3   128.82449   Green_Bay\n",
      "   4   124.99062   San_Francisco\n",
      "   5   114.72397   New_Orleans\n",
      "   6   104.91728   Kansas_City\n",
      "   7   94.87107   Seattle\n",
      "   8   77.13413   Houston\n",
      "   9   70.76816   Minnesota\n",
      "  10   65.94956   Buffalo\n",
      "  11   16.15170   Tennessee\n",
      "  12   15.58044   Philadelphia\n",
      "  13   12.48589   LA_Rams\n",
      "  14   12.13486   Pittsburgh\n",
      "  15   -9.96907   Tampa_Bay\n",
      "  16   -14.97660   Chicago\n",
      "  17   -17.62954   Dallas\n",
      "  18   -18.69013   Las_Vegas\n",
      "  19   -18.74388   Indianapolis\n",
      "  20   -31.42007   Atlanta\n",
      "  21   -34.36865   Denver\n",
      "  22   -37.85211   NY_Jets\n",
      "  23   -40.36767   Cleveland\n",
      "  24   -50.53106   Arizona\n",
      "  25   -75.62071   LA_Chargers\n",
      "  26   -77.71964   Jacksonville\n",
      "  27   -77.79417   Carolina\n",
      "  28   -99.84325   Miami\n",
      "  29   -100.78293   NY_Giants\n",
      "  30   -122.24928   Detroit\n",
      "  31   -124.73787   Washington\n",
      "  32   -182.09231   Cincinnati\n",
      "\n"
     ]
    }
   ],
   "source": [
    "iSort = np.argsort(-eloRatings)\n",
    "\n",
    "print('\\n\\n************** ELO Rating Method **************\\n')\n",
    "print('===========================')\n",
    "print('Rank   Rating      Team   ')\n",
    "print('===========================')\n",
    "for i in range(numTeams):\n",
    "    print(f'{i+1:4d}   {eloRatings[iSort[i]]:.5f}  {teamNames.loc[iSort[i],1]}')\n",
    "\n",
    "print('')   # extra carriage return"
   ]
  },
  {
   "cell_type": "code",
   "execution_count": 7,
   "metadata": {},
   "outputs": [],
   "source": [
    "colleyRank = pd.DataFrame(eloRatings)\n",
    "player = pd.DataFrame(teamNames)\n",
    "rrank = colleyRank[0]\n",
    "ewf = player[1]\n",
    "df = pd.concat([rrank,ewf],axis=1)\n",
    "dv = df.sort_values(0,ascending=False)\n",
    "dc = dv.reset_index()\n",
    "del dc['index']\n",
    "dc = dc.reset_index()\n",
    "dc['index'] = dc['index'] + 1\n",
    "dc = dc. sort_values(1)\n",
    "dc = dc.rename(columns={'index':'rank'})\n",
    "dc = dc.rename(columns={1:'teams'})\n",
    "del dc[0]\n",
    "dc = dc[['teams','rank']]\n"
   ]
  },
  {
   "cell_type": "code",
   "execution_count": 8,
   "metadata": {},
   "outputs": [
    {
     "data": {
      "text/html": [
       "<div>\n",
       "<style scoped>\n",
       "    .dataframe tbody tr th:only-of-type {\n",
       "        vertical-align: middle;\n",
       "    }\n",
       "\n",
       "    .dataframe tbody tr th {\n",
       "        vertical-align: top;\n",
       "    }\n",
       "\n",
       "    .dataframe thead th {\n",
       "        text-align: right;\n",
       "    }\n",
       "</style>\n",
       "<table border=\"1\" class=\"dataframe\">\n",
       "  <thead>\n",
       "    <tr style=\"text-align: right;\">\n",
       "      <th></th>\n",
       "      <th>teams</th>\n",
       "      <th>rank</th>\n",
       "    </tr>\n",
       "  </thead>\n",
       "  <tbody>\n",
       "    <tr>\n",
       "      <td>23</td>\n",
       "      <td>1</td>\n",
       "      <td>24</td>\n",
       "    </tr>\n",
       "    <tr>\n",
       "      <td>19</td>\n",
       "      <td>2</td>\n",
       "      <td>20</td>\n",
       "    </tr>\n",
       "    <tr>\n",
       "      <td>0</td>\n",
       "      <td>3</td>\n",
       "      <td>1</td>\n",
       "    </tr>\n",
       "    <tr>\n",
       "      <td>9</td>\n",
       "      <td>4</td>\n",
       "      <td>10</td>\n",
       "    </tr>\n",
       "    <tr>\n",
       "      <td>26</td>\n",
       "      <td>5</td>\n",
       "      <td>27</td>\n",
       "    </tr>\n",
       "  </tbody>\n",
       "</table>\n",
       "</div>"
      ],
      "text/plain": [
       "    teams  rank\n",
       "23      1    24\n",
       "19      2    20\n",
       "0       3     1\n",
       "9       4    10\n",
       "26      5    27"
      ]
     },
     "execution_count": 8,
     "metadata": {},
     "output_type": "execute_result"
    }
   ],
   "source": [
    "de = teamNames.rename(columns={0:'ID', 1:'Name'})\n",
    "de['ID'].astype(np.int64)\n",
    "de.set_index('ID')\n",
    "mydict = dict(zip(de.Name, de.ID))\n",
    "dc['teams'].replace(mydict, inplace=True)\n",
    "dc.head()"
   ]
  },
  {
   "cell_type": "code",
   "execution_count": 9,
   "metadata": {},
   "outputs": [],
   "source": [
    "def returnRank(t):\n",
    "    df = dc.loc[dc['teams'] == t]\n",
    "    return df.iat[0,1]"
   ]
  },
  {
   "cell_type": "code",
   "execution_count": 10,
   "metadata": {},
   "outputs": [],
   "source": [
    "gamet = pd.read_csv('gamedd.csv', header = None)\n",
    "weekg = gamet.loc[gamet[0] == 17]\n",
    "numgweek = len(weekg)\n",
    "correct = []\n",
    "incorrect = []\n",
    "num = 1"
   ]
  },
  {
   "cell_type": "code",
   "execution_count": 11,
   "metadata": {},
   "outputs": [],
   "source": [
    "for i in range(numgweek):\n",
    "    tea1ID = weekg.iloc[i, 3]\n",
    "    tea2ID = weekg.iloc[i, 6]\n",
    "    tea1Score = weekg.iloc[i, 5]\n",
    "    tea2Score = weekg.iloc[i, 8]\n",
    "    tea1Rank = returnRank(tea1ID)\n",
    "    tea2Rank = returnRank(tea2ID)\n",
    "    if tea1Score > tea2Score and tea1Rank < tea2Rank:\n",
    "        correct.append(num)\n",
    "    else:\n",
    "        incorrect.append(num)"
   ]
  },
  {
   "cell_type": "code",
   "execution_count": 12,
   "metadata": {},
   "outputs": [
    {
     "data": {
      "text/plain": [
       "0.5"
      ]
     },
     "execution_count": 12,
     "metadata": {},
     "output_type": "execute_result"
    }
   ],
   "source": [
    "len(correct)/numgweek"
   ]
  },
  {
   "cell_type": "markdown",
   "metadata": {},
   "source": [
    "## "
   ]
  },
  {
   "cell_type": "code",
   "execution_count": null,
   "metadata": {},
   "outputs": [],
   "source": []
  }
 ],
 "metadata": {
  "kernelspec": {
   "display_name": "Python 3",
   "language": "python",
   "name": "python3"
  },
  "language_info": {
   "codemirror_mode": {
    "name": "ipython",
    "version": 3
   },
   "file_extension": ".py",
   "mimetype": "text/x-python",
   "name": "python",
   "nbconvert_exporter": "python",
   "pygments_lexer": "ipython3",
   "version": "3.7.4"
  }
 },
 "nbformat": 4,
 "nbformat_minor": 4
}

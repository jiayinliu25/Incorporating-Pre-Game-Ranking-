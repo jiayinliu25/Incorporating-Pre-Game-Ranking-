{
 "cells": [
  {
   "cell_type": "markdown",
   "metadata": {},
   "source": [
    "# Massey ranking\n",
    "\n",
    "Description: Construct a Massey ranking of data.\n",
    "  \n",
    "Created by Tim Chartier\n",
    "\n",
    "### Set parameters\n",
    "\n",
    "gameFilename - game data file, presumed to be in the format from \n",
    "the Massey rating data server, which can be found at \n",
    "http://www.masseyratings.com/. \n",
    "\n",
    "teamFilename - team data file\n",
    "\n",
    "k - number of teams to print in the final ranking - set to 0 to get all teams"
   ]
  },
  {
   "cell_type": "code",
   "execution_count": 1029,
   "metadata": {},
   "outputs": [],
   "source": [
    "gameFilename = 'week16wd.csv'\n",
    "teamFilename = '2018player.txt'\n",
    "k = 0"
   ]
  },
  {
   "cell_type": "markdown",
   "metadata": {},
   "source": [
    "### Load the team names into an array"
   ]
  },
  {
   "cell_type": "code",
   "execution_count": 1030,
   "metadata": {},
   "outputs": [],
   "source": [
    "import pandas as pd\n",
    "\n",
    "teamNames = pd.read_csv(teamFilename, header = None)\n",
    "numTeams = len(teamNames)"
   ]
  },
  {
   "cell_type": "markdown",
   "metadata": {},
   "source": [
    "### Load the games"
   ]
  },
  {
   "cell_type": "code",
   "execution_count": 1031,
   "metadata": {},
   "outputs": [],
   "source": [
    "# columns of games are:\n",
    "#\tcolumn 0 = days since 1/1/0000\n",
    "#\tcolumn 1 = date in YYYYMMDD format\n",
    "#\tcolumn 2 = team1 index\n",
    "#\tcolumn 3 = team1 homefield (1 = home, -1 = away, 0 = neutral)\n",
    "#\tcolumn 4 = team1 score\n",
    "#\tcolumn 5 = team2 index\n",
    "#\tcolumn 6 = team2 homefield (1 = home, -1 = away, 0 = neutral)\n",
    "#\tcolumn 7 = team2 score\n",
    "games = pd.read_csv(gameFilename, header = None)\n",
    "numGames = len(games)"
   ]
  },
  {
   "cell_type": "code",
   "execution_count": 1032,
   "metadata": {},
   "outputs": [],
   "source": [
    "def seeding():\n",
    "    date = games.loc[i, 0]\n",
    "    if date == 736048:\n",
    "        return 1.0\n",
    "    else:\n",
    "        return 1.0"
   ]
  },
  {
   "cell_type": "markdown",
   "metadata": {},
   "source": [
    "### Create the Massey linear system"
   ]
  },
  {
   "cell_type": "code",
   "execution_count": 1033,
   "metadata": {},
   "outputs": [],
   "source": [
    "import numpy as np\n",
    "\n",
    "masseyMatrix = np.zeros((numTeams,numTeams))\n",
    "b = np.zeros(numTeams)\n",
    "\n",
    "for i in range(numGames):\n",
    "    team1ID = games.loc[i, 2] - 1 # subtracting 1 since python indexes at 0\n",
    "    team1Score = games.loc[i, 4]\n",
    "    team2ID = games.loc[i, 5] - 1 # subtracting 1 since python indexes at 0\n",
    "    team2Score = games.loc[i, 7]\n",
    "    \n",
    "    masseyMatrix[team1ID, team2ID] -= 1*seeding()\n",
    "    masseyMatrix[team2ID, team1ID] -= 1*seeding()\n",
    "\n",
    "    masseyMatrix[team1ID, team1ID] += 1*seeding()\n",
    "    masseyMatrix[team2ID, team2ID] += 1*seeding()\n",
    "    \n",
    "    pointDifferential = abs(team1Score - team2Score)\n",
    "    \n",
    "    if team1Score > team2Score:\n",
    "        b[team1ID] += pointDifferential\n",
    "        b[team2ID] -= pointDifferential\n",
    "    elif team1Score < team2Score:\n",
    "        b[team1ID] -= pointDifferential\n",
    "        b[team2ID] += pointDifferential\n",
    "        \n",
    "# replace last row with ones and 0 on RHS\n",
    "masseyMatrix[-1,:] = np.ones((1,numTeams))\n",
    "b[-1] = 0"
   ]
  },
  {
   "cell_type": "markdown",
   "metadata": {},
   "source": [
    "### Calculate linear system"
   ]
  },
  {
   "cell_type": "code",
   "execution_count": 1034,
   "metadata": {},
   "outputs": [],
   "source": [
    "r = np.linalg.solve(masseyMatrix,b)\n",
    "iSort = np.argsort(-r)"
   ]
  },
  {
   "cell_type": "markdown",
   "metadata": {},
   "source": [
    "### Print the ranking of the teams"
   ]
  },
  {
   "cell_type": "code",
   "execution_count": 1035,
   "metadata": {},
   "outputs": [
    {
     "name": "stdout",
     "output_type": "stream",
     "text": [
      "\n",
      "\n",
      "************** MASSEY Rating Method **************\n",
      "\n",
      "===========================\n",
      "Rank   Rating    Team   \n",
      "===========================\n",
      "   1   10.51761   New_Orleans \n",
      "   2   7.87361   LA_Rams \n",
      "   3   7.39587   Kansas_City \n",
      "   4   6.05227   Pittsburgh \n",
      "   5   5.88700   Baltimore \n",
      "   6   5.02462   LA_Chargers \n",
      "   7   4.64228   Seattle \n",
      "   8   4.15175   Chicago \n",
      "   9   3.66158   New_England \n",
      "  10   3.48427   Houston \n",
      "  11   2.74081   Indianapolis \n",
      "  12   1.65993   Minnesota \n",
      "  13   1.48051   Tennessee \n",
      "  14   1.04097   Dallas \n",
      "  15   0.90713   Philadelphia \n",
      "  16   0.26827   Denver \n",
      "  17   -0.49098   Atlanta\n",
      "  18   -0.57837   Green_Bay \n",
      "  19   -0.60426   Cleveland \n",
      "  20   -0.81612   Carolina \n",
      "  21   -2.09963   Jacksonville \n",
      "  22   -2.53818   NY_Giants \n",
      "  23   -3.21131   Tampa_Bay \n",
      "  24   -3.29186   Washington\n",
      "  25   -3.91911   Cincinnati \n",
      "  26   -4.81175   San_Francisco \n",
      "  27   -5.07386   Detroit \n",
      "  28   -6.16685   NY_Jets \n",
      "  29   -6.33411   Miami \n",
      "  30   -7.39896   Las_Vegas \n",
      "  31   -8.34931   Buffalo \n",
      "  32   -11.10383   Arizona \n",
      "\n"
     ]
    }
   ],
   "source": [
    "print('\\n\\n************** MASSEY Rating Method **************\\n')\n",
    "print('===========================')\n",
    "print('Rank   Rating    Team   ')\n",
    "print('===========================')\n",
    "if k==0:\n",
    "    numberTeamToPrint = numTeams\n",
    "else:\n",
    "    numberTeamToPrint = k\n",
    "\n",
    "for i in range(numberTeamToPrint):\n",
    "    print(f'{i+1:4d}   {r[iSort[i]]:.5f}  {teamNames.loc[iSort[i],1]}')\n",
    "\n",
    "print('')   # extra carriage return"
   ]
  },
  {
   "cell_type": "code",
   "execution_count": 1036,
   "metadata": {},
   "outputs": [],
   "source": [
    "import pandas as pd\n",
    "\n",
    "colleyRank = pd.DataFrame(r)\n",
    "player = pd.DataFrame(teamNames)\n",
    "rrank = colleyRank[0]\n",
    "ewf = player[1]\n",
    "df = pd.concat([rrank,ewf],axis=1)\n",
    "dv = df.sort_values(0,ascending=False)\n",
    "dc = dv.reset_index()\n",
    "del dc['index']\n",
    "dc = dc.reset_index()\n",
    "dc['index'] = dc['index'] + 1\n",
    "dc = dc. sort_values(1)\n",
    "dc = dc.rename(columns={'index':'rank'})\n",
    "dc = dc.rename(columns={1:'teams'})\n",
    "del dc[0]\n",
    "dc = dc[['teams','rank']]\n"
   ]
  },
  {
   "cell_type": "code",
   "execution_count": 1037,
   "metadata": {},
   "outputs": [
    {
     "data": {
      "text/html": [
       "<div>\n",
       "<style scoped>\n",
       "    .dataframe tbody tr th:only-of-type {\n",
       "        vertical-align: middle;\n",
       "    }\n",
       "\n",
       "    .dataframe tbody tr th {\n",
       "        vertical-align: top;\n",
       "    }\n",
       "\n",
       "    .dataframe thead th {\n",
       "        text-align: right;\n",
       "    }\n",
       "</style>\n",
       "<table border=\"1\" class=\"dataframe\">\n",
       "  <thead>\n",
       "    <tr style=\"text-align: right;\">\n",
       "      <th></th>\n",
       "      <th>teams</th>\n",
       "      <th>rank</th>\n",
       "    </tr>\n",
       "  </thead>\n",
       "  <tbody>\n",
       "    <tr>\n",
       "      <td>31</td>\n",
       "      <td>1</td>\n",
       "      <td>32</td>\n",
       "    </tr>\n",
       "    <tr>\n",
       "      <td>16</td>\n",
       "      <td>2</td>\n",
       "      <td>17</td>\n",
       "    </tr>\n",
       "    <tr>\n",
       "      <td>4</td>\n",
       "      <td>3</td>\n",
       "      <td>5</td>\n",
       "    </tr>\n",
       "    <tr>\n",
       "      <td>30</td>\n",
       "      <td>4</td>\n",
       "      <td>31</td>\n",
       "    </tr>\n",
       "    <tr>\n",
       "      <td>19</td>\n",
       "      <td>5</td>\n",
       "      <td>20</td>\n",
       "    </tr>\n",
       "  </tbody>\n",
       "</table>\n",
       "</div>"
      ],
      "text/plain": [
       "    teams  rank\n",
       "31      1    32\n",
       "16      2    17\n",
       "4       3     5\n",
       "30      4    31\n",
       "19      5    20"
      ]
     },
     "execution_count": 1037,
     "metadata": {},
     "output_type": "execute_result"
    }
   ],
   "source": [
    "de = teamNames.rename(columns={0:'ID', 1:'Name'})\n",
    "de['ID'].astype(np.int64)\n",
    "de.set_index('ID')\n",
    "mydict = dict(zip(de.Name, de.ID))\n",
    "dc['teams'].replace(mydict, inplace=True)\n",
    "dc.head()"
   ]
  },
  {
   "cell_type": "code",
   "execution_count": 1038,
   "metadata": {},
   "outputs": [],
   "source": [
    "def returnRank(t):\n",
    "    df = dc.loc[dc['teams'] == t]\n",
    "    return df.iat[0,1]"
   ]
  },
  {
   "cell_type": "code",
   "execution_count": 1039,
   "metadata": {},
   "outputs": [],
   "source": [
    "gamet = pd.read_csv('allgame.csv', header = None)\n",
    "weekg = gamet.loc[gamet[0] == 17]\n",
    "numgweek = len(weekg)\n",
    "correct = []\n",
    "incorrect = []\n",
    "num = 1"
   ]
  },
  {
   "cell_type": "code",
   "execution_count": 1040,
   "metadata": {},
   "outputs": [],
   "source": [
    "for i in range(numgweek):\n",
    "    tea1ID = weekg.iloc[i, 3]\n",
    "    tea2ID = weekg.iloc[i, 6]\n",
    "    tea1Score = weekg.iloc[i, 5]\n",
    "    tea2Score = weekg.iloc[i, 8]\n",
    "    tea1Rank = returnRank(tea1ID)\n",
    "    tea2Rank = returnRank(tea2ID)\n",
    "    if tea1Score > tea2Score and tea1Rank < tea2Rank:\n",
    "        correct.append(num)\n",
    "    else:\n",
    "        incorrect.append(num)"
   ]
  },
  {
   "cell_type": "code",
   "execution_count": 1041,
   "metadata": {},
   "outputs": [
    {
     "data": {
      "text/plain": [
       "0.8125"
      ]
     },
     "execution_count": 1041,
     "metadata": {},
     "output_type": "execute_result"
    }
   ],
   "source": [
    "len(correct)/numgweek"
   ]
  },
  {
   "cell_type": "markdown",
   "metadata": {},
   "source": [
    "###### "
   ]
  },
  {
   "cell_type": "code",
   "execution_count": null,
   "metadata": {},
   "outputs": [],
   "source": []
  }
 ],
 "metadata": {
  "kernelspec": {
   "display_name": "Python 3",
   "language": "python",
   "name": "python3"
  },
  "language_info": {
   "codemirror_mode": {
    "name": "ipython",
    "version": 3
   },
   "file_extension": ".py",
   "mimetype": "text/x-python",
   "name": "python",
   "nbconvert_exporter": "python",
   "pygments_lexer": "ipython3",
   "version": "3.7.4"
  }
 },
 "nbformat": 4,
 "nbformat_minor": 4
}

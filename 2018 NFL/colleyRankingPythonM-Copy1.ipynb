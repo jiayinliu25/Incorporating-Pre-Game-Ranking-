{
 "cells": [
  {
   "cell_type": "markdown",
   "metadata": {},
   "source": [
    "# Colley ranking\n",
    "\n",
    "Description: Construct a Colley ranking of data.\n",
    "  \n",
    "Created by Tim Chartier\n",
    "\n",
    "### Set parameters\n",
    "\n",
    "gameFilename - game data file, presumed to be in the format from \n",
    "the Massey rating data server, which can be found at \n",
    "http://www.masseyratings.com/. \n",
    "\n",
    "teamFilename - team data file\n",
    "\n",
    "k - number of teams to print in the final ranking - set to 0 to get all teams"
   ]
  },
  {
   "cell_type": "code",
   "execution_count": 956,
   "metadata": {},
   "outputs": [],
   "source": [
    "gameFilename = 'week16wd.csv'\n",
    "teamFilename = '2018player.txt'\n",
    "k = 0"
   ]
  },
  {
   "cell_type": "markdown",
   "metadata": {},
   "source": [
    "### Load the team names into an array"
   ]
  },
  {
   "cell_type": "code",
   "execution_count": 957,
   "metadata": {},
   "outputs": [],
   "source": [
    "import pandas as pd\n",
    "\n",
    "teamNames = pd.read_csv(teamFilename, header = None)\n",
    "numTeams = len(teamNames)"
   ]
  },
  {
   "cell_type": "markdown",
   "metadata": {},
   "source": [
    "### Load the games"
   ]
  },
  {
   "cell_type": "code",
   "execution_count": 958,
   "metadata": {},
   "outputs": [],
   "source": [
    "# columns of games are:\n",
    "#\tcolumn 0 = days since 1/1/0000\n",
    "#\tcolumn 1 = date in YYYYMMDD format\n",
    "#\tcolumn 2 = team1 index\n",
    "#\tcolumn 3 = team1 homefield (1 = home, -1 = away, 0 = neutral)\n",
    "#\tcolumn 4 = team1 score\n",
    "#\tcolumn 5 = team2 index\n",
    "#\tcolumn 6 = team2 homefield (1 = home, -1 = away, 0 = neutral)\n",
    "#\tcolumn 7 = team2 score\n",
    "\n",
    "games = pd.read_csv(gameFilename, header = None)\n",
    "numGames = len(games)"
   ]
  },
  {
   "cell_type": "code",
   "execution_count": 959,
   "metadata": {},
   "outputs": [],
   "source": [
    "def seeding():\n",
    "    date = games.loc[i, 0]\n",
    "    if date == 365243:\n",
    "        return 1.0\n",
    "    else:\n",
    "        return 1.0"
   ]
  },
  {
   "cell_type": "markdown",
   "metadata": {},
   "source": [
    "### Create the Colley linear system"
   ]
  },
  {
   "cell_type": "code",
   "execution_count": 960,
   "metadata": {},
   "outputs": [],
   "source": [
    "import numpy as np\n",
    "\n",
    "colleyMatrix = 2*np.diag(np.ones(numTeams))\n",
    "b = np.ones(numTeams)\n",
    "\n",
    "for i in range(numGames):\n",
    "    team1ID = games.loc[i, 2] - 1 # subtracting 1 since python indexes at 0\n",
    "    team1Score = games.loc[i, 4]\n",
    "    team2ID = games.loc[i, 5] - 1 # subtracting 1 since python indexes at 0\n",
    "    team2Score = games.loc[i, 7]\n",
    "    \n",
    "    colleyMatrix[team1ID, team2ID] -= 1*seeding()\n",
    "    colleyMatrix[team2ID, team1ID] -= 1*seeding()\n",
    "\n",
    "    colleyMatrix[team1ID, team1ID] += 1*seeding()\n",
    "    colleyMatrix[team2ID, team2ID] += 1*seeding()\n",
    "    \n",
    "    if team1Score > team2Score:\n",
    "        b[team1ID] += 1/2\n",
    "        b[team2ID] -= 1/2\n",
    "    elif team1Score < team2Score:\n",
    "        b[team1ID] -= 1/2\n",
    "        b[team2ID] += 1/2\n",
    "    else:  # it is a tie and make 1/2 a win and 1/2 a loss for both teams\n",
    "        b[team1ID] += 0; # this equates to adding nothing\n",
    "        b[team2ID] += 0; # clearly this code could be deleted"
   ]
  },
  {
   "cell_type": "markdown",
   "metadata": {},
   "source": [
    "### Calculate linear system"
   ]
  },
  {
   "cell_type": "code",
   "execution_count": 961,
   "metadata": {},
   "outputs": [],
   "source": [
    "r = np.linalg.solve(colleyMatrix,b)\n",
    "iSort = np.argsort(-r)"
   ]
  },
  {
   "cell_type": "markdown",
   "metadata": {},
   "source": [
    "### Print the ranking of the teams"
   ]
  },
  {
   "cell_type": "markdown",
   "metadata": {},
   "source": [
    "# Calculate predictability of method"
   ]
  },
  {
   "cell_type": "code",
   "execution_count": 962,
   "metadata": {},
   "outputs": [
    {
     "name": "stdout",
     "output_type": "stream",
     "text": [
      "\n",
      "\n",
      "************** COLLEY Rating Method **************\n",
      "\n",
      "===========================\n",
      "Rank   Rating    Team   \n",
      "===========================\n",
      "   1   0.78010   New_Orleans \n",
      "   2   0.74252   LA_Rams \n",
      "   3   0.70347   Kansas_City \n",
      "   4   0.68364   LA_Chargers \n",
      "   5   0.63359   Houston \n",
      "   6   0.63250   New_England \n",
      "   7   0.61460   Chicago \n",
      "   8   0.59430   Tennessee \n",
      "   9   0.59411   Pittsburgh \n",
      "  10   0.57961   Philadelphia \n",
      "  11   0.57786   Baltimore \n",
      "  12   0.57562   Seattle \n",
      "  13   0.57398   Dallas \n",
      "  14   0.57063   Indianapolis \n",
      "  15   0.55450   Minnesota \n",
      "  16   0.51014   Cleveland \n",
      "  17   0.46121   Washington\n",
      "  18   0.45805   Miami \n",
      "  19   0.44041   Cincinnati \n",
      "  20   0.43677   Denver \n",
      "  21   0.43095   Green_Bay \n",
      "  22   0.41584   Jacksonville \n",
      "  23   0.41150   Carolina \n",
      "  24   0.40857   Atlanta\n",
      "  25   0.37021   NY_Giants \n",
      "  26   0.35760   Buffalo \n",
      "  27   0.34697   Detroit \n",
      "  28   0.33937   Tampa_Bay \n",
      "  29   0.33734   Las_Vegas \n",
      "  30   0.30171   San_Francisco \n",
      "  31   0.29311   NY_Jets \n",
      "  32   0.26918   Arizona \n",
      "\n"
     ]
    }
   ],
   "source": [
    "print('\\n\\n************** COLLEY Rating Method **************\\n')\n",
    "print('===========================')\n",
    "print('Rank   Rating    Team   ')\n",
    "print('===========================')\n",
    "if k==0:\n",
    "    numberTeamToPrint = numTeams\n",
    "else:\n",
    "    numberTeamToPrint = k\n",
    "\n",
    "for i in range(numberTeamToPrint):\n",
    "    print(f'{i+1:4d}   {r[iSort[i]]:.5f}  {teamNames.loc[iSort[i],1]}')\n",
    "\n",
    "print('')   # extra carriage return"
   ]
  },
  {
   "cell_type": "code",
   "execution_count": 963,
   "metadata": {
    "scrolled": true
   },
   "outputs": [],
   "source": [
    "import pandas as pd\n",
    "\n",
    "colleyRank = pd.DataFrame(r)\n",
    "player = pd.DataFrame(teamNames)\n",
    "rrank = colleyRank[0]\n",
    "ewf = player[1]\n",
    "df = pd.concat([rrank,ewf],axis=1)\n",
    "dv = df.sort_values(0,ascending=False)\n",
    "dc = dv.reset_index()\n",
    "del dc['index']\n",
    "dc = dc.reset_index()\n",
    "dc['index'] = dc['index'] + 1\n",
    "dc = dc. sort_values(1)\n",
    "dc = dc.rename(columns={'index':'rank'})\n",
    "dc = dc.rename(columns={1:'teams'})\n",
    "del dc[0]\n",
    "dc = dc[['teams','rank']]\n"
   ]
  },
  {
   "cell_type": "code",
   "execution_count": 964,
   "metadata": {
    "scrolled": false
   },
   "outputs": [
    {
     "data": {
      "text/html": [
       "<div>\n",
       "<style scoped>\n",
       "    .dataframe tbody tr th:only-of-type {\n",
       "        vertical-align: middle;\n",
       "    }\n",
       "\n",
       "    .dataframe tbody tr th {\n",
       "        vertical-align: top;\n",
       "    }\n",
       "\n",
       "    .dataframe thead th {\n",
       "        text-align: right;\n",
       "    }\n",
       "</style>\n",
       "<table border=\"1\" class=\"dataframe\">\n",
       "  <thead>\n",
       "    <tr style=\"text-align: right;\">\n",
       "      <th></th>\n",
       "      <th>teams</th>\n",
       "      <th>rank</th>\n",
       "    </tr>\n",
       "  </thead>\n",
       "  <tbody>\n",
       "    <tr>\n",
       "      <td>31</td>\n",
       "      <td>1</td>\n",
       "      <td>32</td>\n",
       "    </tr>\n",
       "    <tr>\n",
       "      <td>23</td>\n",
       "      <td>2</td>\n",
       "      <td>24</td>\n",
       "    </tr>\n",
       "    <tr>\n",
       "      <td>10</td>\n",
       "      <td>3</td>\n",
       "      <td>11</td>\n",
       "    </tr>\n",
       "    <tr>\n",
       "      <td>25</td>\n",
       "      <td>4</td>\n",
       "      <td>26</td>\n",
       "    </tr>\n",
       "    <tr>\n",
       "      <td>22</td>\n",
       "      <td>5</td>\n",
       "      <td>23</td>\n",
       "    </tr>\n",
       "  </tbody>\n",
       "</table>\n",
       "</div>"
      ],
      "text/plain": [
       "    teams  rank\n",
       "31      1    32\n",
       "23      2    24\n",
       "10      3    11\n",
       "25      4    26\n",
       "22      5    23"
      ]
     },
     "execution_count": 964,
     "metadata": {},
     "output_type": "execute_result"
    }
   ],
   "source": [
    "de = teamNames.rename(columns={0:'ID', 1:'Name'})\n",
    "de['ID'].astype(np.int64)\n",
    "de.set_index('ID')\n",
    "mydict = dict(zip(de.Name, de.ID))\n",
    "dc['teams'].replace(mydict, inplace=True)\n",
    "dc.head()"
   ]
  },
  {
   "cell_type": "code",
   "execution_count": 965,
   "metadata": {},
   "outputs": [],
   "source": [
    "def returnRank(t):\n",
    "    df = dc.loc[dc['teams'] == t]\n",
    "    return df.iat[0,1]"
   ]
  },
  {
   "cell_type": "code",
   "execution_count": 966,
   "metadata": {},
   "outputs": [],
   "source": [
    "gamet = pd.read_csv('allgame.csv', header = None)\n",
    "weekg = gamet.loc[gamet[0] == 17]\n",
    "numgweek = len(weekg)\n",
    "correct = []\n",
    "incorrect = []\n",
    "num = 1"
   ]
  },
  {
   "cell_type": "code",
   "execution_count": 967,
   "metadata": {},
   "outputs": [],
   "source": [
    "for i in range(numgweek):\n",
    "    tea1ID = weekg.iloc[i, 3]\n",
    "    tea2ID = weekg.iloc[i, 6]\n",
    "    tea1Score = weekg.iloc[i, 5]\n",
    "    tea2Score = weekg.iloc[i, 8]\n",
    "    tea1Rank = returnRank(tea1ID)\n",
    "    tea2Rank = returnRank(tea2ID)\n",
    "    if tea1Score > tea2Score and tea1Rank < tea2Rank:\n",
    "        correct.append(num)\n",
    "    else:\n",
    "        incorrect.append(num)"
   ]
  },
  {
   "cell_type": "code",
   "execution_count": 968,
   "metadata": {},
   "outputs": [
    {
     "data": {
      "text/plain": [
       "0.75"
      ]
     },
     "execution_count": 968,
     "metadata": {},
     "output_type": "execute_result"
    }
   ],
   "source": [
    "len(correct)/numgweek"
   ]
  },
  {
   "cell_type": "code",
   "execution_count": null,
   "metadata": {},
   "outputs": [],
   "source": []
  },
  {
   "cell_type": "code",
   "execution_count": null,
   "metadata": {},
   "outputs": [],
   "source": []
  },
  {
   "cell_type": "code",
   "execution_count": null,
   "metadata": {},
   "outputs": [],
   "source": []
  },
  {
   "cell_type": "code",
   "execution_count": null,
   "metadata": {},
   "outputs": [],
   "source": []
  }
 ],
 "metadata": {
  "kernelspec": {
   "display_name": "Python 3",
   "language": "python",
   "name": "python3"
  },
  "language_info": {
   "codemirror_mode": {
    "name": "ipython",
    "version": 3
   },
   "file_extension": ".py",
   "mimetype": "text/x-python",
   "name": "python",
   "nbconvert_exporter": "python",
   "pygments_lexer": "ipython3",
   "version": "3.7.4"
  }
 },
 "nbformat": 4,
 "nbformat_minor": 4
}
